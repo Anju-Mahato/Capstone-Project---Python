{
 "cells": [
  {
   "cell_type": "code",
   "execution_count": null,
   "id": "97bbdc0f-cddf-44f1-8b4a-ba4274f4cac5",
   "metadata": {},
   "outputs": [],
   "source": [
    "Capstone Project - Python Fundamentals"
   ]
  },
  {
   "cell_type": "code",
   "execution_count": null,
   "id": "9d21f1c4-ee91-44df-9995-1d0d6875b79c",
   "metadata": {},
   "outputs": [],
   "source": [
    "Task 1\n",
    "There are three different tables as given above. Please make three dataframe in python\n",
    "and save them as three .csv files. From Task 2 to Task 10, use the saved .csv files only."
   ]
  },
  {
   "cell_type": "code",
   "execution_count": 1,
   "id": "d7fa9972-1040-4e97-832a-c217d89b5342",
   "metadata": {},
   "outputs": [
    {
     "name": "stdout",
     "output_type": "stream",
     "text": [
      "CSV files saved successfully!\n"
     ]
    }
   ],
   "source": [
    "import pandas as pd\n",
    "\n",
    "# Data for Employee DataFrame\n",
    "employee_data = {\n",
    "    'ID': ['A001', 'A002', 'A003', 'A004', 'A005'],\n",
    "    'Name': ['John Alter', 'Alice Luxumberg', 'Tom Sabestine', 'Nina Adgra', 'Amy Johny'],\n",
    "    'Gender': ['M', 'F', 'M', 'F', 'F'],\n",
    "    'City': ['Paris', 'London', 'Berlin', 'Newyork', 'Madrid'],\n",
    "    'Age': [25, 27, 29, 31, 30]\n",
    "}\n",
    "\n",
    "# Data for Seniority Level DataFrame\n",
    "seniority_data = {\n",
    "    'ID': ['A001', 'A002', 'A003', 'A004', 'A005'],\n",
    "    'Designation Level': [2, 2, 3, 2, 3]\n",
    "}\n",
    "\n",
    "# Data for Project DataFrame\n",
    "project_data = {\n",
    "    'ID': ['A001', 'A002', 'A003', 'A004', 'A005', 'A002', 'A005', 'A003', 'A001', 'A003', 'A001', 'A004', 'A004', 'A005'],\n",
    "    'Project': ['Project 1', 'Project 2', 'Project 3', 'Project 4', 'Project 5', 'Project 6', 'Project 7', 'Project 8', 'Project 9', 'Project 10', 'Project 11', 'Project 12', 'Project 13', 'Project 14'],\n",
    "    'Cost': [1002000, 2000000, 4500000, 5500000, None, 680000, 400000, 350000, None, 300000, 2000000, 1000000, 3000000, 200000],\n",
    "    'Status': ['Finished', 'Ongoing', 'Finished', 'Ongoing', 'Finished', 'Failed', 'Finished', 'Failed', 'Ongoing', 'Finished', 'Failed', 'Ongoing', 'Finished', 'Finished']\n",
    "}\n",
    "\n",
    "# Create DataFrames\n",
    "df_employee = pd.DataFrame(employee_data)\n",
    "df_seniority = pd.DataFrame(seniority_data)\n",
    "df_project = pd.DataFrame(project_data)\n",
    "\n",
    "# Save DataFrames as CSV files\n",
    "df_employee.to_csv('employee.csv', index=False)\n",
    "df_seniority.to_csv('seniority_level.csv', index=False)\n",
    "df_project.to_csv('project.csv', index=False)\n",
    "\n",
    "print(\"CSV files saved successfully!\")\n"
   ]
  },
  {
   "cell_type": "code",
   "execution_count": null,
   "id": "6a9105cf-ad43-4781-bcbd-9774835f7866",
   "metadata": {},
   "outputs": [],
   "source": [
    "Task 2\n",
    "The cost column in the dataframe “Project” has some missing values. Your task is to\n",
    "compute these missing values. Replace the missing values by running average. You\n",
    "should use the “For” loop for this task."
   ]
  },
  {
   "cell_type": "code",
   "execution_count": 11,
   "id": "b44bb77f-7727-41dc-8bdd-8585c5523670",
   "metadata": {},
   "outputs": [
    {
     "name": "stdout",
     "output_type": "stream",
     "text": [
      "      ID     Project          Cost    Status\n",
      "0   A001   Project 1 $1,002,000.00  Finished\n",
      "1   A002   Project 2 $2,000,000.00   Ongoing\n",
      "2   A003   Project 3 $4,500,000.00  Finished\n",
      "3   A004   Project 4 $5,500,000.00   Ongoing\n",
      "4   A005   Project 5 $3,250,500.00  Finished\n",
      "5   A002   Project 6   $680,000.00    Failed\n",
      "6   A005   Project 7   $400,000.00  Finished\n",
      "7   A003   Project 8   $350,000.00    Failed\n",
      "8   A001   Project 9 $2,061,714.29   Ongoing\n",
      "9   A003  Project 10   $300,000.00  Finished\n",
      "10  A001  Project 11 $2,000,000.00    Failed\n",
      "11  A004  Project 12 $1,000,000.00   Ongoing\n",
      "12  A004  Project 13 $3,000,000.00  Finished\n",
      "13  A005  Project 14   $200,000.00  Finished\n"
     ]
    }
   ],
   "source": [
    "import pandas as pd  # Importing the pandas library to work with dataframes\n",
    "\n",
    "# Step 1: Read the project CSV file into a dataframe\n",
    "df_project = pd.read_csv('project.csv')  # Reading the CSV file and storing it in df_project\n",
    "\n",
    "# Step 2: Initialize variables for running total and count\n",
    "running_total = 0  # Variable to keep track of the running total of 'Cost'\n",
    "count = 0  # Variable to keep track of how many non-missing values are encountered\n",
    "\n",
    "# Using a for loop to iterate over the rows of the dataframe\n",
    "for index in range(len(df_project)):  # Loop through each row in df_project by index\n",
    "    if pd.isna(df_project.at[index, 'Cost']):  # Check if the 'Cost' column has a missing value at the current index\n",
    "        # Replace the missing value with the running average if count is greater than 0\n",
    "        if count > 0:  # Ensure there's at least one non-missing value to calculate the average\n",
    "            average_cost = running_total / count  # Calculate the running average\n",
    "            df_project.at[index, 'Cost'] = average_cost  # Replace missing 'Cost' with the running average\n",
    "    else:\n",
    "        # If the 'Cost' is not missing, update the running total and count\n",
    "        running_total += df_project.at[index, 'Cost']  # Add the current 'Cost' to the running total\n",
    "        count += 1  # Increment the count of non-missing 'Cost' values\n",
    "\n",
    "# Step 3: Set pandas display option to avoid scientific notation for large numbers\n",
    "pd.set_option('display.float_format', '${:,.2f}'.format)  # Format the display of numbers to two decimal places\n",
    "\n",
    "# Display the updated DataFrame with replaced missing values\n",
    "print(df_project)  # Output the dataframe to the console"
   ]
  },
  {
   "cell_type": "code",
   "execution_count": null,
   "id": "da75753d-4f62-4442-993f-a087f818a0cc",
   "metadata": {},
   "outputs": [],
   "source": [
    "Task 3\n",
    "Split the name column in the Employee dataframe into two new columns “First Name”,\n",
    "and “LastName” and remove the older “name” column"
   ]
  },
  {
   "cell_type": "code",
   "execution_count": 12,
   "id": "1e8eea05-481d-45c4-a1cf-efa1dc921133",
   "metadata": {},
   "outputs": [
    {
     "name": "stdout",
     "output_type": "stream",
     "text": [
      "     ID Gender     City  Age First Name  Last Name\n",
      "0  A001      M    Paris   25       John      Alter\n",
      "1  A002      F   London   27      Alice  Luxumberg\n",
      "2  A003      M   Berlin   29        Tom  Sabestine\n",
      "3  A004      F  Newyork   31       Nina      Adgra\n",
      "4  A005      F   Madrid   30        Amy      Johny\n"
     ]
    }
   ],
   "source": [
    "import pandas as pd  # Import the pandas library to work with dataframes\n",
    "\n",
    "# Step 1: Read the employee CSV file into a dataframe\n",
    "df_employee = pd.read_csv('employee.csv')  # Load the CSV file 'employee.csv' into df_employee dataframe\n",
    "\n",
    "# Step 2: Split the 'Name' column into 'First Name' and 'Last Name'\n",
    "# Using str.split() to split the 'Name' column into two columns: 'First Name' and 'Last Name'\n",
    "# n=1 ensures the split occurs only on the first space found in the 'Name' string\n",
    "df_employee[['First Name', 'Last Name']] = df_employee['Name'].str.split(' ', n=1, expand=True)\n",
    "\n",
    "# Step 3: Drop the original 'Name' column from the dataframe\n",
    "df_employee.drop(columns=['Name'], inplace=True)  # Remove the 'Name' column after splitting it into two new columns\n",
    "\n",
    "# Display the updated DataFrame with 'First Name' and 'Last Name' columns\n",
    "print(df_employee)  # Output the dataframe to the console"
   ]
  },
  {
   "cell_type": "code",
   "execution_count": null,
   "id": "a298aee9-7643-42af-ab39-3dd61f04d2f3",
   "metadata": {},
   "outputs": [],
   "source": [
    "Task 4\n",
    "Join all three dataframes in one single dataframe. Name it “Final”"
   ]
  },
  {
   "cell_type": "code",
   "execution_count": 13,
   "id": "aeb65863-5867-461c-abee-63e74a5c86c4",
   "metadata": {},
   "outputs": [
    {
     "name": "stdout",
     "output_type": "stream",
     "text": [
      "     ID Gender     City  Age First Name  Last Name  Designation Level  \\\n",
      "0  A001      M    Paris   25       John      Alter                  2   \n",
      "1  A002      F   London   27      Alice  Luxumberg                  2   \n",
      "2  A003      M   Berlin   29        Tom  Sabestine                  3   \n",
      "3  A004      F  Newyork   31       Nina      Adgra                  2   \n",
      "4  A005      F   Madrid   30        Amy      Johny                  3   \n",
      "\n",
      "                             Project  \\\n",
      "0   Project 1, Project 9, Project 11   \n",
      "1               Project 2, Project 6   \n",
      "2   Project 3, Project 8, Project 10   \n",
      "3  Project 4, Project 12, Project 13   \n",
      "4   Project 5, Project 7, Project 14   \n",
      "\n",
      "                                          Cost                        Status  \n",
      "0  $1,002,000.00, $2,061,714.29, $2,000,000.00     Finished, Ongoing, Failed  \n",
      "1                   $2,000,000.00, $680,000.00               Ongoing, Failed  \n",
      "2      $4,500,000.00, $350,000.00, $300,000.00    Finished, Failed, Finished  \n",
      "3  $5,500,000.00, $1,000,000.00, $3,000,000.00    Ongoing, Ongoing, Finished  \n",
      "4      $3,250,500.00, $400,000.00, $200,000.00  Finished, Finished, Finished  \n"
     ]
    }
   ],
   "source": [
    "import pandas as pd  # Importing the pandas library to work with dataframes\n",
    "\n",
    "# Step 1: Read the updated CSV files into dataframes\n",
    "df_employee = pd.read_csv('employee_updated.csv')  # Load employee data\n",
    "df_seniority = pd.read_csv('seniority_level.csv')  # Load seniority level data\n",
    "df_project = pd.read_csv('project_updated.csv')  # Load project data\n",
    "\n",
    "# Step 2: Remove duplicates from the employee and seniority DataFrames based on 'ID' column\n",
    "df_employee = df_employee.drop_duplicates(subset=['ID'])  # Remove duplicate rows in employee data\n",
    "df_seniority = df_seniority.drop_duplicates(subset=['ID'])  # Remove duplicate rows in seniority data\n",
    "\n",
    "# Step 3: Ensure the 'Cost' column in the project DataFrame is treated as a float\n",
    "# Convert the 'Cost' column to numeric values, coercing any errors for non-numeric entries\n",
    "df_project['Cost'] = pd.to_numeric(df_project['Cost'], errors='coerce')\n",
    "\n",
    "# Step 4: Aggregate the project DataFrame to avoid duplicates per 'ID'\n",
    "df_project_agg = df_project.groupby('ID').agg({\n",
    "    'Project': ', '.join,  # Join all project names into a single string for each ID\n",
    "    'Cost': lambda x: ', '.join(f'${v:,.2f}' for v in x.dropna()),  # Format 'Cost' as currency and join into a string\n",
    "    'Status': ', '.join  # Join all statuses into a single string for each ID\n",
    "}).reset_index()  # Reset index to make 'ID' a regular column\n",
    "\n",
    "# Step 5: Merge the employee and seniority DataFrames on 'ID'\n",
    "merged_df = pd.merge(df_employee, df_seniority, on='ID', how='inner')  # Perform inner join on 'ID'\n",
    "\n",
    "# Merge the result with the aggregated project DataFrame\n",
    "final_df = pd.merge(merged_df, df_project_agg, on='ID', how='inner')  # Perform inner join on 'ID' with the aggregated project data\n",
    "\n",
    "# Display the final merged DataFrame\n",
    "print(final_df)  # Output the final dataframe to the console"
   ]
  },
  {
   "cell_type": "code",
   "execution_count": null,
   "id": "2b3642a7-3184-4edd-8ad8-5d6dff04551d",
   "metadata": {},
   "outputs": [],
   "source": [
    "Task 5\n",
    "Add a new bonus column in the Final dataframe. Give a 5% bonus concerning project \n",
    "cost only to employees who have finished the projects."
   ]
  },
  {
   "cell_type": "code",
   "execution_count": 5,
   "id": "a72f50fe-dbb4-49cd-8426-dbb07741e7d6",
   "metadata": {},
   "outputs": [
    {
     "name": "stdout",
     "output_type": "stream",
     "text": [
      "     ID Gender     City  Age First Name  Last Name  Designation Level  \\\n",
      "0  A001      M    Paris   25       John      Alter                  2   \n",
      "1  A002      F   London   27      Alice  Luxumberg                  2   \n",
      "2  A003      M   Berlin   29        Tom  Sabestine                  3   \n",
      "3  A004      F  Newyork   31       Nina      Adgra                  2   \n",
      "4  A005      F   Madrid   30        Amy      Johny                  3   \n",
      "\n",
      "                             Project  \\\n",
      "0   Project 1, Project 9, Project 11   \n",
      "1               Project 2, Project 6   \n",
      "2   Project 3, Project 8, Project 10   \n",
      "3  Project 4, Project 12, Project 13   \n",
      "4   Project 5, Project 7, Project 14   \n",
      "\n",
      "                                          Cost                        Status  \\\n",
      "0  $1,002,000.00, $2,061,714.29, $2,000,000.00     Finished, Ongoing, Failed   \n",
      "1                   $2,000,000.00, $680,000.00               Ongoing, Failed   \n",
      "2      $4,500,000.00, $350,000.00, $300,000.00    Finished, Failed, Finished   \n",
      "3  $5,500,000.00, $1,000,000.00, $3,000,000.00    Ongoing, Ongoing, Finished   \n",
      "4      $3,250,500.00, $400,000.00, $200,000.00  Finished, Finished, Finished   \n",
      "\n",
      "         Bonus  \n",
      "0   $50,100.00  \n",
      "1        $0.00  \n",
      "2  $240,000.00  \n",
      "3  $150,000.00  \n",
      "4  $192,525.00  \n"
     ]
    }
   ],
   "source": [
    "import pandas as pd  # Import the pandas library to work with dataframes\n",
    "\n",
    "# Assuming the previous code for merging DataFrames has already been executed\n",
    "\n",
    "# Step 1: Read the updated CSV files into dataframes\n",
    "df_employee = pd.read_csv('employee_updated.csv')  # Load employee data\n",
    "df_seniority = pd.read_csv('seniority_level.csv')  # Load seniority level data\n",
    "df_project = pd.read_csv('project_updated.csv')  # Load project data\n",
    "\n",
    "# Step 2: Remove duplicates from the employee and seniority DataFrames\n",
    "df_employee = df_employee.drop_duplicates(subset=['ID'])  # Remove duplicate rows in employee data based on 'ID'\n",
    "df_seniority = df_seniority.drop_duplicates(subset=['ID'])  # Remove duplicate rows in seniority data based on 'ID'\n",
    "\n",
    "# Step 3: Clean and convert the 'Cost' column to numeric in df_project\n",
    "# Replace '$' and ',' in the 'Cost' column and convert it to numeric values\n",
    "df_project['Cost'] = pd.to_numeric(df_project['Cost'].replace({r'\\$': '', r',': ''}, regex=True), errors='coerce')\n",
    "\n",
    "# Step 4: Aggregate the project DataFrame\n",
    "# Group by 'ID' and aggregate 'Project', 'Cost', and 'Status' columns\n",
    "df_project_agg = df_project.groupby('ID').agg({\n",
    "    'Project': ', '.join,  # Join multiple project names into a single string\n",
    "    'Cost': lambda x: ', '.join(f'${v:,.2f}' for v in x.dropna()),  # Format costs as currency and join into a string\n",
    "    'Status': ', '.join  # Join multiple statuses into a single string\n",
    "}).reset_index()  # Reset the index to make 'ID' a regular column\n",
    "\n",
    "# Step 5: Merge the employee and seniority DataFrames on 'ID'\n",
    "merged_df = pd.merge(df_employee, df_seniority, on='ID', how='inner')  # Perform inner join on 'ID'\n",
    "\n",
    "# Merge the result with the aggregated project DataFrame\n",
    "final_df = pd.merge(merged_df, df_project_agg, on='ID', how='inner')  # Perform inner join on 'ID' with the aggregated project data\n",
    "\n",
    "# Step 6: Initialize the Bonus column with zeros\n",
    "final_df['Bonus'] = 0.0  # Create a new 'Bonus' column and initialize it with 0.0\n",
    "\n",
    "# Step 7: Calculate the Bonus for employees who have finished projects\n",
    "for index, row in final_df.iterrows():  # Iterate over each row in the final_df dataframe\n",
    "    # Split the costs and statuses into separate lists for processing\n",
    "    costs = [cost.replace('$', '').replace(',', '') for cost in row['Cost'].split(', ')]  # Remove $ and commas from cost and split it into a list\n",
    "    statuses = row['Status'].split(', ')  # Split the 'Status' column into a list\n",
    "    \n",
    "    # Calculate the total cost for finished projects only\n",
    "    total_finished_cost = sum(float(cost) for cost, status in zip(costs, statuses) if status.strip() == 'Finished')  # Sum up the cost where the status is 'Finished'\n",
    "    \n",
    "    # Calculate the bonus as 5% of the total finished project cost\n",
    "    final_df.at[index, 'Bonus'] = total_finished_cost * 0.05  # Assign the calculated bonus to the 'Bonus' column for that employee\n",
    "\n",
    "# Step 8: Format the Bonus column as currency\n",
    "final_df['Bonus'] = final_df['Bonus'].apply(lambda x: f'${x:,.2f}')  # Format the 'Bonus' values as currency (e.g., $1,000.00)\n",
    "\n",
    "# Display the updated Final DataFrame with the 'Bonus' column formatted\n",
    "print(final_df)  # Output the final dataframe to the console"
   ]
  },
  {
   "cell_type": "code",
   "execution_count": null,
   "id": "c378758e-5aff-4dff-b5c6-26ef24578b45",
   "metadata": {},
   "outputs": [],
   "source": [
    "Task 6\n",
    "Demote the designation level by 1, whose projects have status “fail”. Delete the\n",
    "employees record whose designation level is above 4."
   ]
  },
  {
   "cell_type": "code",
   "execution_count": 6,
   "id": "dfceb897-e10b-4dc5-9826-479ca43e2ff5",
   "metadata": {},
   "outputs": [
    {
     "name": "stdout",
     "output_type": "stream",
     "text": [
      "     ID Gender     City  Age First Name  Last Name  Designation Level  \\\n",
      "0  A001      M    Paris   25       John      Alter                  1   \n",
      "1  A002      F   London   27      Alice  Luxumberg                  1   \n",
      "2  A003      M   Berlin   29        Tom  Sabestine                  2   \n",
      "3  A004      F  Newyork   31       Nina      Adgra                  2   \n",
      "4  A005      F   Madrid   30        Amy      Johny                  3   \n",
      "\n",
      "                             Project  \\\n",
      "0   Project 1, Project 9, Project 11   \n",
      "1               Project 2, Project 6   \n",
      "2   Project 3, Project 8, Project 10   \n",
      "3  Project 4, Project 12, Project 13   \n",
      "4   Project 5, Project 7, Project 14   \n",
      "\n",
      "                                          Cost                        Status  \\\n",
      "0  $1,002,000.00, $2,061,714.29, $2,000,000.00     Finished, Ongoing, Failed   \n",
      "1                   $2,000,000.00, $680,000.00               Ongoing, Failed   \n",
      "2      $4,500,000.00, $350,000.00, $300,000.00    Finished, Failed, Finished   \n",
      "3  $5,500,000.00, $1,000,000.00, $3,000,000.00    Ongoing, Ongoing, Finished   \n",
      "4      $3,250,500.00, $400,000.00, $200,000.00  Finished, Finished, Finished   \n",
      "\n",
      "         Bonus  \n",
      "0   $50,100.00  \n",
      "1        $0.00  \n",
      "2  $240,000.00  \n",
      "3  $150,000.00  \n",
      "4  $192,525.00  \n"
     ]
    }
   ],
   "source": [
    "import pandas as pd  # Import the pandas library to work with dataframes\n",
    "\n",
    "# Assuming final_df is already created from previous tasks and contains 'Designation Level' and 'Status' columns\n",
    "\n",
    "# Step 1: Demote the designation level by 1 for employees with failed projects\n",
    "for index, row in final_df.iterrows():  # Iterate over each row in the final_df dataframe\n",
    "    # Split the 'Status' column into a list of statuses for each project\n",
    "    statuses = row['Status'].split(', ')\n",
    "    \n",
    "    # Check if any of the statuses are \"Failed\"\n",
    "    if 'Failed' in [status.strip() for status in statuses]:  # Strip spaces and check if any status is 'Failed'\n",
    "        # Demote the designation level by 1 for employees with failed projects\n",
    "        current_level = row['Designation Level']  # Get the current designation level\n",
    "        \n",
    "        # Set the new designation level, ensuring it does not drop below 1\n",
    "        final_df.at[index, 'Designation Level'] = max(current_level - 1, 1)  # Use max to prevent the level from going below 1\n",
    "\n",
    "# Step 2: Remove records where the designation level is above 4\n",
    "# Filter the dataframe to keep only rows where 'Designation Level' is less than or equal to 4\n",
    "final_df = final_df[final_df['Designation Level'] <= 4]\n",
    "\n",
    "# Display the updated Final DataFrame after Task 6\n",
    "print(final_df)  # Output the final dataframe to the console"
   ]
  },
  {
   "cell_type": "code",
   "execution_count": null,
   "id": "141dde90-dfcb-4743-a4bc-6d58bb5448a9",
   "metadata": {},
   "outputs": [],
   "source": [
    "Task 7\n",
    "Add “Mr.” and “Mrs.” to the first name column and drop the gender column."
   ]
  },
  {
   "cell_type": "code",
   "execution_count": 7,
   "id": "896eaa43-6f20-416b-ada9-5141a5ae7df6",
   "metadata": {},
   "outputs": [
    {
     "name": "stdout",
     "output_type": "stream",
     "text": [
      "     ID     City  Age  First Name  Last Name  Designation Level  \\\n",
      "0  A001    Paris   25    Mr. John      Alter                  1   \n",
      "1  A002   London   27  Mrs. Alice  Luxumberg                  1   \n",
      "2  A003   Berlin   29     Mr. Tom  Sabestine                  2   \n",
      "3  A004  Newyork   31   Mrs. Nina      Adgra                  2   \n",
      "4  A005   Madrid   30    Mrs. Amy      Johny                  3   \n",
      "\n",
      "                             Project  \\\n",
      "0   Project 1, Project 9, Project 11   \n",
      "1               Project 2, Project 6   \n",
      "2   Project 3, Project 8, Project 10   \n",
      "3  Project 4, Project 12, Project 13   \n",
      "4   Project 5, Project 7, Project 14   \n",
      "\n",
      "                                          Cost                        Status  \\\n",
      "0  $1,002,000.00, $2,061,714.29, $2,000,000.00     Finished, Ongoing, Failed   \n",
      "1                   $2,000,000.00, $680,000.00               Ongoing, Failed   \n",
      "2      $4,500,000.00, $350,000.00, $300,000.00    Finished, Failed, Finished   \n",
      "3  $5,500,000.00, $1,000,000.00, $3,000,000.00    Ongoing, Ongoing, Finished   \n",
      "4      $3,250,500.00, $400,000.00, $200,000.00  Finished, Finished, Finished   \n",
      "\n",
      "         Bonus  \n",
      "0   $50,100.00  \n",
      "1        $0.00  \n",
      "2  $240,000.00  \n",
      "3  $150,000.00  \n",
      "4  $192,525.00  \n"
     ]
    }
   ],
   "source": [
    "import pandas as pd  # Import the pandas library to work with dataframes\n",
    "\n",
    "# Assuming final_df is already created from previous tasks\n",
    "\n",
    "# Step 1: Add \"Mr.\" or \"Mrs.\" to the First Name column\n",
    "# Use 'apply' to modify the 'First Name' based on the value in the 'Gender' column\n",
    "final_df['First Name'] = final_df.apply(\n",
    "    lambda row: 'Mr. ' + row['First Name'] if row['Gender'] == 'M' else 'Mrs. ' + row['First Name'], axis=1\n",
    "    # Add 'Mr.' prefix if gender is 'M', else add 'Mrs.' for other gender ('F')\n",
    ")\n",
    "\n",
    "# Step 2: Drop the Gender column\n",
    "final_df = final_df.drop(columns=['Gender'])  # Remove the 'Gender' column as it is no longer needed\n",
    "\n",
    "# Display the updated Final DataFrame after Task 7\n",
    "print(final_df)  # Output the final dataframe to the console"
   ]
  },
  {
   "cell_type": "code",
   "execution_count": null,
   "id": "dc61581c-ff9c-4957-b481-89419f5225e8",
   "metadata": {},
   "outputs": [],
   "source": [
    "Task 8\n",
    "Promote designation level by 1 for the employees whose age is more than 29 years using\n",
    "IF condition."
   ]
  },
  {
   "cell_type": "code",
   "execution_count": 8,
   "id": "90e5d0a8-9053-44d8-83cb-b70bbf11d58f",
   "metadata": {},
   "outputs": [
    {
     "name": "stdout",
     "output_type": "stream",
     "text": [
      "     ID     City  Age  First Name  Last Name  Designation Level  \\\n",
      "0  A001    Paris   25    Mr. John      Alter                  1   \n",
      "1  A002   London   27  Mrs. Alice  Luxumberg                  1   \n",
      "2  A003   Berlin   29     Mr. Tom  Sabestine                  2   \n",
      "3  A004  Newyork   31   Mrs. Nina      Adgra                  3   \n",
      "4  A005   Madrid   30    Mrs. Amy      Johny                  4   \n",
      "\n",
      "                             Project  \\\n",
      "0   Project 1, Project 9, Project 11   \n",
      "1               Project 2, Project 6   \n",
      "2   Project 3, Project 8, Project 10   \n",
      "3  Project 4, Project 12, Project 13   \n",
      "4   Project 5, Project 7, Project 14   \n",
      "\n",
      "                                          Cost                        Status  \\\n",
      "0  $1,002,000.00, $2,061,714.29, $2,000,000.00     Finished, Ongoing, Failed   \n",
      "1                   $2,000,000.00, $680,000.00               Ongoing, Failed   \n",
      "2      $4,500,000.00, $350,000.00, $300,000.00    Finished, Failed, Finished   \n",
      "3  $5,500,000.00, $1,000,000.00, $3,000,000.00    Ongoing, Ongoing, Finished   \n",
      "4      $3,250,500.00, $400,000.00, $200,000.00  Finished, Finished, Finished   \n",
      "\n",
      "         Bonus  \n",
      "0   $50,100.00  \n",
      "1        $0.00  \n",
      "2  $240,000.00  \n",
      "3  $150,000.00  \n",
      "4  $192,525.00  \n"
     ]
    }
   ],
   "source": [
    "import pandas as pd  # Import the pandas library to work with dataframes\n",
    "\n",
    "# Assuming final_df is already created from previous tasks\n",
    "\n",
    "# Step 1: Promote designation level by 1 for employees older than 29\n",
    "for index, row in final_df.iterrows():  # Iterate over each row in the final_df dataframe\n",
    "    if row['Age'] > 29:  # Check if the employee's age is greater than 29\n",
    "        # Promote the designation level by 1\n",
    "        final_df.at[index, 'Designation Level'] += 1  # Increase the designation level by 1\n",
    "\n",
    "# Display the updated Final DataFrame after Task 8\n",
    "print(final_df)  # Output the final dataframe to the console"
   ]
  },
  {
   "cell_type": "code",
   "execution_count": null,
   "id": "a6d7aeba-46b4-4729-898e-fa32bd9fc62f",
   "metadata": {},
   "outputs": [],
   "source": [
    "Task 9\n",
    "Add the cost of all projects for each Employee and save it in new dataframe\n",
    "“TotalProjCost” with three columns ID, First Name, and Total cost"
   ]
  },
  {
   "cell_type": "code",
   "execution_count": 9,
   "id": "68963b11-d7c5-48c4-843a-2cdd35896a74",
   "metadata": {},
   "outputs": [
    {
     "name": "stdout",
     "output_type": "stream",
     "text": [
      "     ID  First Name     Total Cost\n",
      "0  A001    Mr. John  $5,063,714.29\n",
      "1  A002  Mrs. Alice  $2,680,000.00\n",
      "2  A003     Mr. Tom  $5,150,000.00\n",
      "3  A004   Mrs. Nina  $9,500,000.00\n",
      "4  A005    Mrs. Amy  $3,850,500.00\n"
     ]
    }
   ],
   "source": [
    "import pandas as pd  # Import the pandas library to work with dataframes\n",
    "\n",
    "# Assuming final_df is already created from previous tasks\n",
    "\n",
    "# Step 1: Initialize a list to store total costs for each employee\n",
    "total_proj_costs = []  # This list will hold dictionaries containing employee ID, First Name, and Total Cost\n",
    "\n",
    "# Step 2: Calculate the total project costs for each employee\n",
    "for index, row in final_df.iterrows():  # Iterate over each row in the final_df dataframe\n",
    "    # Split the costs into a list, removing the '$' and ',' characters for conversion to float\n",
    "    costs = [float(cost.replace('$', '').replace(',', '')) for cost in row['Cost'].split(', ')]\n",
    "    \n",
    "    # Calculate the total cost for this employee by summing the costs\n",
    "    total_cost = sum(costs)\n",
    "    \n",
    "    # Append the ID, First Name, and Total Cost to the list\n",
    "    total_proj_costs.append({\n",
    "        'ID': row['ID'],  # Employee ID\n",
    "        'First Name': row['First Name'],  # Employee First Name\n",
    "        'Total Cost': total_cost  # Total cost of projects for the employee\n",
    "    })\n",
    "\n",
    "# Step 3: Create a new DataFrame for Total Project Costs\n",
    "TotalProjCost = pd.DataFrame(total_proj_costs)  # Convert the list of dictionaries into a DataFrame\n",
    "\n",
    "# Step 4: Format the Total Cost as currency (optional)\n",
    "TotalProjCost['Total Cost'] = TotalProjCost['Total Cost'].apply(lambda x: f'${x:,.2f}')  # Format Total Cost to currency format\n",
    "\n",
    "# Display the new DataFrame\n",
    "print(TotalProjCost)  # Output the TotalProjCost DataFrame to the console"
   ]
  },
  {
   "cell_type": "code",
   "execution_count": null,
   "id": "6f7053af-934b-4db3-9ac2-9220eeff210b",
   "metadata": {},
   "outputs": [],
   "source": [
    "Task 10\n",
    "Print all the employee details whose city name contains the letter “o” in it."
   ]
  },
  {
   "cell_type": "code",
   "execution_count": 10,
   "id": "af38dda0-d67b-40ce-9818-311849f17b90",
   "metadata": {},
   "outputs": [
    {
     "name": "stdout",
     "output_type": "stream",
     "text": [
      "     ID     City  Age  First Name  Last Name  Designation Level  \\\n",
      "1  A002   London   27  Mrs. Alice  Luxumberg                  1   \n",
      "3  A004  Newyork   31   Mrs. Nina      Adgra                  3   \n",
      "\n",
      "                             Project  \\\n",
      "1               Project 2, Project 6   \n",
      "3  Project 4, Project 12, Project 13   \n",
      "\n",
      "                                          Cost                      Status  \\\n",
      "1                   $2,000,000.00, $680,000.00             Ongoing, Failed   \n",
      "3  $5,500,000.00, $1,000,000.00, $3,000,000.00  Ongoing, Ongoing, Finished   \n",
      "\n",
      "         Bonus  \n",
      "1        $0.00  \n",
      "3  $150,000.00  \n"
     ]
    }
   ],
   "source": [
    "import pandas as pd  # Import the pandas library to work with DataFrames\n",
    "\n",
    "# Assuming final_df is already created from previous tasks\n",
    "\n",
    "# Step 1: Filter employees whose city contains the letter \"o\"\n",
    "filtered_employees = final_df[final_df['City'].str.contains('o', case=False)]  # Use case=False for case-insensitive search\n",
    "\n",
    "# Step 2: Print the filtered DataFrame\n",
    "print(filtered_employees)  # Output the filtered employees to the console"
   ]
  },
  {
   "cell_type": "code",
   "execution_count": null,
   "id": "431b61c2-e76a-45f7-a13c-b12c5f3bff14",
   "metadata": {},
   "outputs": [],
   "source": []
  }
 ],
 "metadata": {
  "kernelspec": {
   "display_name": "Python 3 (ipykernel)",
   "language": "python",
   "name": "python3"
  },
  "language_info": {
   "codemirror_mode": {
    "name": "ipython",
    "version": 3
   },
   "file_extension": ".py",
   "mimetype": "text/x-python",
   "name": "python",
   "nbconvert_exporter": "python",
   "pygments_lexer": "ipython3",
   "version": "3.12.4"
  }
 },
 "nbformat": 4,
 "nbformat_minor": 5
}
